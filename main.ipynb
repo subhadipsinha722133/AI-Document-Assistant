{
 "cells": [
  {
   "cell_type": "code",
   "execution_count": 1,
   "id": "1c9acbff",
   "metadata": {},
   "outputs": [
    {
     "name": "stdout",
     "output_type": "stream",
     "text": [
      "Collecting PyPDF2\n",
      "  Using cached pypdf2-3.0.1-py3-none-any.whl.metadata (6.8 kB)\n",
      "Using cached pypdf2-3.0.1-py3-none-any.whl (232 kB)\n",
      "Installing collected packages: PyPDF2\n",
      "Successfully installed PyPDF2-3.0.1\n"
     ]
    }
   ],
   "source": [
    "!pip install PyPDF2"
   ]
  },
  {
   "cell_type": "code",
   "execution_count": 2,
   "id": "b5ecd597",
   "metadata": {},
   "outputs": [
    {
     "name": "stdout",
     "output_type": "stream",
     "text": [
      "Requirement already satisfied: langchain in c:\\users\\sinha\\anaconda3\\envs\\env1\\lib\\site-packages (0.3.27)\n",
      "Requirement already satisfied: langchain-core<1.0.0,>=0.3.72 in c:\\users\\sinha\\anaconda3\\envs\\env1\\lib\\site-packages (from langchain) (0.3.72)\n",
      "Requirement already satisfied: langchain-text-splitters<1.0.0,>=0.3.9 in c:\\users\\sinha\\anaconda3\\envs\\env1\\lib\\site-packages (from langchain) (0.3.9)\n",
      "Requirement already satisfied: langsmith>=0.1.17 in c:\\users\\sinha\\anaconda3\\envs\\env1\\lib\\site-packages (from langchain) (0.4.12)\n",
      "Requirement already satisfied: pydantic<3.0.0,>=2.7.4 in c:\\users\\sinha\\anaconda3\\envs\\env1\\lib\\site-packages (from langchain) (2.11.7)\n",
      "Requirement already satisfied: SQLAlchemy<3,>=1.4 in c:\\users\\sinha\\anaconda3\\envs\\env1\\lib\\site-packages (from langchain) (2.0.42)\n",
      "Requirement already satisfied: requests<3,>=2 in c:\\users\\sinha\\anaconda3\\envs\\env1\\lib\\site-packages (from langchain) (2.32.4)\n",
      "Requirement already satisfied: PyYAML>=5.3 in c:\\users\\sinha\\anaconda3\\envs\\env1\\lib\\site-packages (from langchain) (6.0.2)\n",
      "Requirement already satisfied: tenacity!=8.4.0,<10.0.0,>=8.1.0 in c:\\users\\sinha\\anaconda3\\envs\\env1\\lib\\site-packages (from langchain-core<1.0.0,>=0.3.72->langchain) (9.1.2)\n",
      "Requirement already satisfied: jsonpatch<2.0,>=1.33 in c:\\users\\sinha\\anaconda3\\envs\\env1\\lib\\site-packages (from langchain-core<1.0.0,>=0.3.72->langchain) (1.33)\n",
      "Requirement already satisfied: typing-extensions>=4.7 in c:\\users\\sinha\\anaconda3\\envs\\env1\\lib\\site-packages (from langchain-core<1.0.0,>=0.3.72->langchain) (4.14.1)\n",
      "Requirement already satisfied: packaging>=23.2 in c:\\users\\sinha\\anaconda3\\envs\\env1\\lib\\site-packages (from langchain-core<1.0.0,>=0.3.72->langchain) (25.0)\n",
      "Requirement already satisfied: jsonpointer>=1.9 in c:\\users\\sinha\\anaconda3\\envs\\env1\\lib\\site-packages (from jsonpatch<2.0,>=1.33->langchain-core<1.0.0,>=0.3.72->langchain) (3.0.0)\n",
      "Requirement already satisfied: annotated-types>=0.6.0 in c:\\users\\sinha\\anaconda3\\envs\\env1\\lib\\site-packages (from pydantic<3.0.0,>=2.7.4->langchain) (0.7.0)\n",
      "Requirement already satisfied: pydantic-core==2.33.2 in c:\\users\\sinha\\anaconda3\\envs\\env1\\lib\\site-packages (from pydantic<3.0.0,>=2.7.4->langchain) (2.33.2)\n",
      "Requirement already satisfied: typing-inspection>=0.4.0 in c:\\users\\sinha\\anaconda3\\envs\\env1\\lib\\site-packages (from pydantic<3.0.0,>=2.7.4->langchain) (0.4.1)\n",
      "Requirement already satisfied: charset_normalizer<4,>=2 in c:\\users\\sinha\\anaconda3\\envs\\env1\\lib\\site-packages (from requests<3,>=2->langchain) (3.4.2)\n",
      "Requirement already satisfied: idna<4,>=2.5 in c:\\users\\sinha\\anaconda3\\envs\\env1\\lib\\site-packages (from requests<3,>=2->langchain) (3.10)\n",
      "Requirement already satisfied: urllib3<3,>=1.21.1 in c:\\users\\sinha\\anaconda3\\envs\\env1\\lib\\site-packages (from requests<3,>=2->langchain) (2.5.0)\n",
      "Requirement already satisfied: certifi>=2017.4.17 in c:\\users\\sinha\\anaconda3\\envs\\env1\\lib\\site-packages (from requests<3,>=2->langchain) (2025.8.3)\n",
      "Requirement already satisfied: greenlet>=1 in c:\\users\\sinha\\anaconda3\\envs\\env1\\lib\\site-packages (from SQLAlchemy<3,>=1.4->langchain) (3.2.3)\n",
      "Requirement already satisfied: httpx<1,>=0.23.0 in c:\\users\\sinha\\anaconda3\\envs\\env1\\lib\\site-packages (from langsmith>=0.1.17->langchain) (0.28.1)\n",
      "Requirement already satisfied: orjson>=3.9.14 in c:\\users\\sinha\\anaconda3\\envs\\env1\\lib\\site-packages (from langsmith>=0.1.17->langchain) (3.11.1)\n",
      "Requirement already satisfied: requests-toolbelt>=1.0.0 in c:\\users\\sinha\\anaconda3\\envs\\env1\\lib\\site-packages (from langsmith>=0.1.17->langchain) (1.0.0)\n",
      "Requirement already satisfied: zstandard>=0.23.0 in c:\\users\\sinha\\anaconda3\\envs\\env1\\lib\\site-packages (from langsmith>=0.1.17->langchain) (0.23.0)\n",
      "Requirement already satisfied: anyio in c:\\users\\sinha\\anaconda3\\envs\\env1\\lib\\site-packages (from httpx<1,>=0.23.0->langsmith>=0.1.17->langchain) (4.10.0)\n",
      "Requirement already satisfied: httpcore==1.* in c:\\users\\sinha\\anaconda3\\envs\\env1\\lib\\site-packages (from httpx<1,>=0.23.0->langsmith>=0.1.17->langchain) (1.0.9)\n",
      "Requirement already satisfied: h11>=0.16 in c:\\users\\sinha\\anaconda3\\envs\\env1\\lib\\site-packages (from httpcore==1.*->httpx<1,>=0.23.0->langsmith>=0.1.17->langchain) (0.16.0)\n",
      "Requirement already satisfied: sniffio>=1.1 in c:\\users\\sinha\\anaconda3\\envs\\env1\\lib\\site-packages (from anyio->httpx<1,>=0.23.0->langsmith>=0.1.17->langchain) (1.3.1)\n"
     ]
    }
   ],
   "source": [
    "!pip install langchain"
   ]
  },
  {
   "cell_type": "code",
   "execution_count": 1,
   "id": "8e1e10d5",
   "metadata": {},
   "outputs": [
    {
     "name": "stdout",
     "output_type": "stream",
     "text": [
      "Requirement already satisfied: sentence-transformers in c:\\users\\sinha\\desktop\\pdf insight local ai document assistant\\python---3.11\\lib\\site-packages (2.2.2)\n",
      "Requirement already satisfied: transformers<5.0.0,>=4.6.0 in c:\\users\\sinha\\desktop\\pdf insight local ai document assistant\\python---3.11\\lib\\site-packages (from sentence-transformers) (4.56.1)\n",
      "Requirement already satisfied: tqdm in c:\\users\\sinha\\desktop\\pdf insight local ai document assistant\\python---3.11\\lib\\site-packages (from sentence-transformers) (4.67.1)\n",
      "Requirement already satisfied: torch>=1.6.0 in c:\\users\\sinha\\desktop\\pdf insight local ai document assistant\\python---3.11\\lib\\site-packages (from sentence-transformers) (2.8.0)\n",
      "Requirement already satisfied: torchvision in c:\\users\\sinha\\desktop\\pdf insight local ai document assistant\\python---3.11\\lib\\site-packages (from sentence-transformers) (0.23.0)\n",
      "Requirement already satisfied: numpy in c:\\users\\sinha\\desktop\\pdf insight local ai document assistant\\python---3.11\\lib\\site-packages (from sentence-transformers) (1.26.4)\n",
      "Requirement already satisfied: scikit-learn in c:\\users\\sinha\\desktop\\pdf insight local ai document assistant\\python---3.11\\lib\\site-packages (from sentence-transformers) (1.7.2)\n",
      "Requirement already satisfied: scipy in c:\\users\\sinha\\desktop\\pdf insight local ai document assistant\\python---3.11\\lib\\site-packages (from sentence-transformers) (1.16.1)\n",
      "Requirement already satisfied: nltk in c:\\users\\sinha\\desktop\\pdf insight local ai document assistant\\python---3.11\\lib\\site-packages (from sentence-transformers) (3.9.1)\n",
      "Requirement already satisfied: sentencepiece in c:\\users\\sinha\\desktop\\pdf insight local ai document assistant\\python---3.11\\lib\\site-packages (from sentence-transformers) (0.2.1)\n",
      "Requirement already satisfied: huggingface-hub>=0.4.0 in c:\\users\\sinha\\desktop\\pdf insight local ai document assistant\\python---3.11\\lib\\site-packages (from sentence-transformers) (0.34.4)\n",
      "Requirement already satisfied: filelock in c:\\users\\sinha\\desktop\\pdf insight local ai document assistant\\python---3.11\\lib\\site-packages (from transformers<5.0.0,>=4.6.0->sentence-transformers) (3.19.1)\n",
      "Requirement already satisfied: packaging>=20.0 in c:\\users\\sinha\\desktop\\pdf insight local ai document assistant\\python---3.11\\lib\\site-packages (from transformers<5.0.0,>=4.6.0->sentence-transformers) (23.2)\n",
      "Requirement already satisfied: pyyaml>=5.1 in c:\\users\\sinha\\desktop\\pdf insight local ai document assistant\\python---3.11\\lib\\site-packages (from transformers<5.0.0,>=4.6.0->sentence-transformers) (6.0.2)\n",
      "Requirement already satisfied: regex!=2019.12.17 in c:\\users\\sinha\\desktop\\pdf insight local ai document assistant\\python---3.11\\lib\\site-packages (from transformers<5.0.0,>=4.6.0->sentence-transformers) (2025.9.1)\n",
      "Requirement already satisfied: requests in c:\\users\\sinha\\desktop\\pdf insight local ai document assistant\\python---3.11\\lib\\site-packages (from transformers<5.0.0,>=4.6.0->sentence-transformers) (2.32.5)\n",
      "Requirement already satisfied: tokenizers<=0.23.0,>=0.22.0 in c:\\users\\sinha\\desktop\\pdf insight local ai document assistant\\python---3.11\\lib\\site-packages (from transformers<5.0.0,>=4.6.0->sentence-transformers) (0.22.0)\n",
      "Requirement already satisfied: safetensors>=0.4.3 in c:\\users\\sinha\\desktop\\pdf insight local ai document assistant\\python---3.11\\lib\\site-packages (from transformers<5.0.0,>=4.6.0->sentence-transformers) (0.6.2)\n",
      "Requirement already satisfied: fsspec>=2023.5.0 in c:\\users\\sinha\\desktop\\pdf insight local ai document assistant\\python---3.11\\lib\\site-packages (from huggingface-hub>=0.4.0->sentence-transformers) (2025.9.0)\n",
      "Requirement already satisfied: typing-extensions>=3.7.4.3 in c:\\users\\sinha\\desktop\\pdf insight local ai document assistant\\python---3.11\\lib\\site-packages (from huggingface-hub>=0.4.0->sentence-transformers) (4.15.0)\n",
      "Requirement already satisfied: sympy>=1.13.3 in c:\\users\\sinha\\desktop\\pdf insight local ai document assistant\\python---3.11\\lib\\site-packages (from torch>=1.6.0->sentence-transformers) (1.14.0)\n",
      "Requirement already satisfied: networkx in c:\\users\\sinha\\desktop\\pdf insight local ai document assistant\\python---3.11\\lib\\site-packages (from torch>=1.6.0->sentence-transformers) (3.5)\n",
      "Requirement already satisfied: jinja2 in c:\\users\\sinha\\desktop\\pdf insight local ai document assistant\\python---3.11\\lib\\site-packages (from torch>=1.6.0->sentence-transformers) (3.1.6)\n",
      "Requirement already satisfied: mpmath<1.4,>=1.1.0 in c:\\users\\sinha\\desktop\\pdf insight local ai document assistant\\python---3.11\\lib\\site-packages (from sympy>=1.13.3->torch>=1.6.0->sentence-transformers) (1.3.0)\n",
      "Requirement already satisfied: colorama in c:\\users\\sinha\\desktop\\pdf insight local ai document assistant\\python---3.11\\lib\\site-packages (from tqdm->sentence-transformers) (0.4.6)\n",
      "Requirement already satisfied: MarkupSafe>=2.0 in c:\\users\\sinha\\desktop\\pdf insight local ai document assistant\\python---3.11\\lib\\site-packages (from jinja2->torch>=1.6.0->sentence-transformers) (3.0.2)\n",
      "Requirement already satisfied: click in c:\\users\\sinha\\desktop\\pdf insight local ai document assistant\\python---3.11\\lib\\site-packages (from nltk->sentence-transformers) (8.2.1)\n",
      "Requirement already satisfied: joblib in c:\\users\\sinha\\desktop\\pdf insight local ai document assistant\\python---3.11\\lib\\site-packages (from nltk->sentence-transformers) (1.5.2)\n",
      "Requirement already satisfied: charset_normalizer<4,>=2 in c:\\users\\sinha\\desktop\\pdf insight local ai document assistant\\python---3.11\\lib\\site-packages (from requests->transformers<5.0.0,>=4.6.0->sentence-transformers) (3.4.3)\n",
      "Requirement already satisfied: idna<4,>=2.5 in c:\\users\\sinha\\desktop\\pdf insight local ai document assistant\\python---3.11\\lib\\site-packages (from requests->transformers<5.0.0,>=4.6.0->sentence-transformers) (3.10)\n",
      "Requirement already satisfied: urllib3<3,>=1.21.1 in c:\\users\\sinha\\desktop\\pdf insight local ai document assistant\\python---3.11\\lib\\site-packages (from requests->transformers<5.0.0,>=4.6.0->sentence-transformers) (2.5.0)\n",
      "Requirement already satisfied: certifi>=2017.4.17 in c:\\users\\sinha\\desktop\\pdf insight local ai document assistant\\python---3.11\\lib\\site-packages (from requests->transformers<5.0.0,>=4.6.0->sentence-transformers) (2025.8.3)\n",
      "Requirement already satisfied: threadpoolctl>=3.1.0 in c:\\users\\sinha\\desktop\\pdf insight local ai document assistant\\python---3.11\\lib\\site-packages (from scikit-learn->sentence-transformers) (3.6.0)\n",
      "Requirement already satisfied: pillow!=8.3.*,>=5.3.0 in c:\\users\\sinha\\desktop\\pdf insight local ai document assistant\\python---3.11\\lib\\site-packages (from torchvision->sentence-transformers) (10.2.0)\n"
     ]
    }
   ],
   "source": [
    "!pip install sentence-transformers"
   ]
  },
  {
   "cell_type": "code",
   "execution_count": null,
   "id": "62b19e68",
   "metadata": {},
   "outputs": [],
   "source": [
    "!pip install tf-keras"
   ]
  }
 ],
 "metadata": {
  "kernelspec": {
   "display_name": "PYTHON---3.11",
   "language": "python",
   "name": "python3"
  },
  "language_info": {
   "codemirror_mode": {
    "name": "ipython",
    "version": 3
   },
   "file_extension": ".py",
   "mimetype": "text/x-python",
   "name": "python",
   "nbconvert_exporter": "python",
   "pygments_lexer": "ipython3",
   "version": "3.11.9"
  }
 },
 "nbformat": 4,
 "nbformat_minor": 5
}
